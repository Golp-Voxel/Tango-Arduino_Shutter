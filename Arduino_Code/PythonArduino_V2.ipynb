{
 "cells": [
  {
   "cell_type": "code",
   "execution_count": 8,
   "metadata": {},
   "outputs": [],
   "source": [
    "import serial"
   ]
  },
  {
   "cell_type": "code",
   "execution_count": 10,
   "metadata": {},
   "outputs": [],
   "source": [
    "serial_port = 'COM12'\n",
    "arduino = serial.Serial(serial_port, baudrate = 9600)     "
   ]
  },
  {
   "cell_type": "code",
   "execution_count": 11,
   "metadata": {},
   "outputs": [],
   "source": [
    "def Open():\n",
    "    cmd = b'On\\n'\n",
    "    arduino.flush()\n",
    "    arduino.write(cmd)\n",
    "    arduino.flush()\n",
    "    msg = arduino.read_until(b'\\n')\n",
    "    return msg.decode('utf-8')\n",
    "\n",
    "def Close():\n",
    "    cmd =\"Off\\n\"\n",
    "    arduino.write(cmd.encode())\n",
    "    msg = arduino.read_until(b'\\n')\n",
    "    return msg.decode('utf-8')"
   ]
  },
  {
   "cell_type": "code",
   "execution_count": 12,
   "metadata": {},
   "outputs": [
    {
     "name": "stdout",
     "output_type": "stream",
     "text": [
      "On was executed\n",
      "\n"
     ]
    }
   ],
   "source": [
    "print(Open())"
   ]
  },
  {
   "cell_type": "code",
   "execution_count": 13,
   "metadata": {},
   "outputs": [
    {
     "name": "stdout",
     "output_type": "stream",
     "text": [
      "Off was executed\n",
      "\n"
     ]
    }
   ],
   "source": [
    "print(Close())"
   ]
  },
  {
   "cell_type": "code",
   "execution_count": 14,
   "metadata": {},
   "outputs": [],
   "source": [
    "arduino.close()"
   ]
  },
  {
   "cell_type": "code",
   "execution_count": null,
   "metadata": {},
   "outputs": [],
   "source": []
  },
  {
   "cell_type": "code",
   "execution_count": null,
   "metadata": {},
   "outputs": [],
   "source": []
  }
 ],
 "metadata": {
  "kernelspec": {
   "display_name": "Python 3 (ipykernel)",
   "language": "python",
   "name": "python3"
  },
  "language_info": {
   "codemirror_mode": {
    "name": "ipython",
    "version": 3
   },
   "file_extension": ".py",
   "mimetype": "text/x-python",
   "name": "python",
   "nbconvert_exporter": "python",
   "pygments_lexer": "ipython3",
   "version": "3.9.13"
  }
 },
 "nbformat": 4,
 "nbformat_minor": 4
}
